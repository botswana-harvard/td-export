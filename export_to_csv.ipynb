{
 "cells": [
  {
   "cell_type": "markdown",
   "metadata": {},
   "source": [
    "# Export CRF data as CSV\n",
    "\n",
    "\n",
    "## Connect to live / remote DB\n",
    "To connect to the live database, open a tunnel, for example:\n",
    "\n",
    "    ssh -f <username>@<live_server> -L5001:localhost:3306 -N\n",
    "    \n",
    "Change the PORT in `settings.py`.\n",
    "\n",
    "Uses `edc-pdutils` v0.1.1\n"
   ]
  },
  {
   "cell_type": "code",
   "execution_count": 1,
   "metadata": {},
   "outputs": [],
   "source": [
    "import os\n",
    "import sys\n",
    "import datetime\n",
    "import pandas as pd\n",
    "import MySQLdb\n",
    "import csv\n",
    "\n",
    "from edc_pdutils import CsvExporter, CsvCrfTablesExporter, CrfDfHandler, CsvCrfInlineTablesExporter, TableToDataframe\n",
    "from td_export.csv_exporters import CsvMaternalCrfTablesExporter\n",
    "from td_export.csv_exporters import CsvInfantCrfTablesExporter, CsvNonCrfTablesExporter\n",
    "from td_export.csv_exporters import CsvMaternalCrfInlineTablesExporter, CsvInfantCrfInlineTablesExporter\n",
    "date_today = datetime.date.today()\n",
    "date_today_str = date_today.strftime('%Y%m%d')\n",
    "path = '/Users/ckgathi/data-exports/tshilo-dikotla/' + date_today_str + '/'\n",
    "if not os.path.exists(path):\n",
    "    os.makedirs(path)\n",
    "\n",
    "date_format = '%Y-%m-%d'\n",
    "sep = ','\n",
    "\n",
    "maternal_path = os.path.join(path, 'maternal')\n",
    "if not os.path.exists(maternal_path):\n",
    "    os.makedirs(maternal_path)\n",
    "infant_path = os.path.join(path, 'infant')\n",
    "if not os.path.exists(infant_path):\n",
    "    os.makedirs(infant_path)\n",
    "non_crf_path = os.path.join(path, 'non_crf')\n",
    "if not os.path.exists(non_crf_path):\n",
    "    os.makedirs(non_crf_path)"
   ]
  },
  {
   "cell_type": "markdown",
   "metadata": {},
   "source": [
    "### Export maternal CRFs"
   ]
  },
  {
   "cell_type": "code",
   "execution_count": 2,
   "metadata": {},
   "outputs": [
    {
     "name": "stdout",
     "output_type": "stream",
     "text": [
      "+++++++++++\n",
      "['td_lab_maternalrequisition', 'td_maternal_maternalarvpost', 'td_maternal_maternalarvpostadh', 'td_maternal_maternalarvpreg', 'td_maternal_maternalclinicalmeasurementsone', 'td_maternal_maternalclinicalmeasurementstwo', 'td_maternal_maternalcontraception', 'td_maternal_maternaldeathreport', 'td_maternal_maternaldemographics', 'td_maternal_maternaldiagnoses', 'td_maternal_maternalhivinterimhx', 'td_maternal_maternalinterimidcc', 'td_maternal_maternallabdeldx', 'td_maternal_maternallabdelmed', 'td_maternal_maternallifetimearvhistory', 'td_maternal_maternalmedicalhistory', 'td_maternal_maternalobstericalhistory', 'td_maternal_maternaloffstudy', 'td_maternal_maternalpostpartumdep', 'td_maternal_maternalpostpartumfu', 'td_maternal_maternalrando', 'td_maternal_maternalsubstanceuseduringpreg', 'td_maternal_maternalsubstanceusepriorpreg', 'td_maternal_maternalultrasoundfu', 'td_maternal_maternalultrasoundinitial', 'td_maternal_rapidtestingantenatal', 'td_maternal_rapidtestingdelivery', 'td_maternal_rapidtestresult'] __________________________--\n",
      "(*) td_lab_maternalrequisition 2656       \n",
      "(*) td_maternal_maternalarvpost 471       \n",
      "(*) td_maternal_maternalarvpostadh 471       \n",
      "(*) td_maternal_maternalarvpreg 647       \n",
      "(*) td_maternal_maternalclinicalmeasurementsone 410       \n",
      "(*) td_maternal_maternalclinicalmeasurementstwo 1482       \n",
      "(*) td_maternal_maternalcontraception 714       \n",
      "(*) td_maternal_maternaldeathreport 1       \n",
      "(*) td_maternal_maternaldemographics 410       \n",
      "(*) td_maternal_maternaldiagnoses 679       \n",
      "(*) td_maternal_maternalhivinterimhx 190       \n",
      "(*) td_maternal_maternalinterimidcc 1126       \n",
      "(?) td_maternal_maternallabdeldx empty  \n",
      "(?) td_maternal_maternallabdelmed empty  \n",
      "(*) td_maternal_maternallifetimearvhistory 179       \n",
      "(*) td_maternal_maternalmedicalhistory 407       \n",
      "(*) td_maternal_maternalobstericalhistory 329       \n",
      "(*) td_maternal_maternaloffstudy 79       \n",
      "(*) td_maternal_maternalpostpartumdep 499       \n",
      "(*) td_maternal_maternalpostpartumfu 792       \n",
      "(*) td_maternal_maternalrando 250       \n",
      "(*) td_maternal_maternalsubstanceuseduringpreg 319       \n",
      "(*) td_maternal_maternalsubstanceusepriorpreg 360       \n",
      "(?) td_maternal_maternalultrasoundfu empty  \n",
      "(*) td_maternal_maternalultrasoundinitial 416       \n",
      "(?) td_maternal_rapidtestingantenatal empty  \n",
      "(?) td_maternal_rapidtestingdelivery empty  \n",
      "(*) td_maternal_rapidtestresult 306       \n"
     ]
    }
   ],
   "source": [
    "exporter = CsvMaternalCrfTablesExporter()\n",
    "exporter.to_csv(export_folder=maternal_path)"
   ]
  },
  {
   "cell_type": "code",
   "execution_count": 3,
   "metadata": {},
   "outputs": [
    {
     "name": "stdout",
     "output_type": "stream",
     "text": [
      "\n",
      "+++++++++++\n",
      "td_maternal_maternalarvpostmed\n",
      "(*) td_maternal_maternalarvpostmed_maternalarvpost_merged 471       \n",
      "td_maternal_maternalarv\n"
     ]
    },
    {
     "name": "stderr",
     "output_type": "stream",
     "text": [
      "/Users/ckgathi/.venvs/td-export-new/lib/python3.6/site-packages/pandas/core/frame.py:3035: SettingWithCopyWarning: \n",
      "A value is trying to be set on a copy of a slice from a DataFrame\n",
      "\n",
      "See the caveats in the documentation: http://pandas.pydata.org/pandas-docs/stable/indexing.html#indexing-view-versus-copy\n",
      "  downcast=downcast, **kwargs)\n"
     ]
    },
    {
     "name": "stdout",
     "output_type": "stream",
     "text": [
      "(*) td_maternal_maternalarv_maternalarvpreg_merged 1565       \n",
      "td_maternal_maternalcontraception_contr\n",
      "(*) td_maternal_maternalcontraception_contr_maternalcontraception_merged 721       \n",
      "td_maternal_maternalcontraception_contraceptive_relative\n",
      "(*) td_maternal_maternalcontraception_contraceptive_relative_maternalcontraception_merged 724       \n",
      "td_maternal_maternaldiagnoses_diagnoses\n",
      "(*) td_maternal_maternaldiagnoses_diagnoses_frommaternaldiagnoses_merged 680       \n",
      "td_maternal_maternaldiagnoses_who\n",
      "(*) td_maternal_maternaldiagnoses_who_maternaldiagnoses_merged 679       \n",
      "td_maternal_maternallabdeldxt\n",
      "(?) td_maternal_maternallabdeldxt_maternallabdeldx_merged empty  \n",
      "td_maternal_maternallifetimearvhistory_prior_arv\n",
      "(*) td_maternal_maternallifetimearvhistory_prior_arv_maternallifetimearvhistory_merged 227       \n",
      "td_maternal_maternalmedicalhistory_father_chronic\n",
      "(*) td_maternal_maternalmedicalhistory_father_chronic_maternalmedicalhistory_merged 407       \n",
      "td_maternal_maternalmedicalhistory_mother_chronic\n",
      "(*) td_maternal_maternalmedicalhistory_mother_chronic_maternalmedicalhistory_merged 409       \n",
      "td_maternal_maternalmedicalhistory_mother_medications\n",
      "(*) td_maternal_maternalmedicalhistory_mother_medications_maternalmedicalhistory_merged 417       \n",
      "td_maternal_maternalmedicalhistory_who\n",
      "(*) td_maternal_maternalmedicalhistory_who_maternalmedicalhistory_merged 407       \n",
      "td_maternal_maternalpostpartumfu_diagnoses\n",
      "(*) td_maternal_maternalpostpartumfu_diagnoses_maternalpostpartumfu_merged 792       \n",
      "td_maternal_maternalpostpartumfu_hospitalization_reason\n",
      "(*) td_maternal_maternalpostpartumfu_hospitalization_reason_maternalpostpartumfu_merged 792       \n",
      "td_maternal_maternalpostpartumfu_who\n",
      "(*) td_maternal_maternalpostpartumfu_who_maternalpostpartumfu_merged 792       \n"
     ]
    }
   ],
   "source": [
    "sys.stdout.write('\\n')\n",
    "exporter = CsvMaternalCrfInlineTablesExporter(export_folder=maternal_path)\n",
    "exporter.to_csv(date_format=date_format, delimiter=sep)"
   ]
  },
  {
   "cell_type": "markdown",
   "metadata": {},
   "source": [
    "### Export infant CRFs"
   ]
  },
  {
   "cell_type": "code",
   "execution_count": 4,
   "metadata": {},
   "outputs": [
    {
     "name": "stdout",
     "output_type": "stream",
     "text": [
      "+++++++++++\n",
      "['td_infant_infantarvproph', 'td_infant_infantbirtharv', 'td_infant_infantbirthdata', 'td_infant_infantbirthexam', 'td_infant_infantbirthfeedingvaccine', 'td_infant_infantcongenitalanomalies', 'td_infant_infantdeathreport', 'td_infant_infantfeeding', 'td_infant_infantfu', 'td_infant_infantfudx', 'td_infant_infantfuimmunizations', 'td_infant_infantfunewmed', 'td_infant_infantfuphysical', 'td_infant_infantnvpadjustment', 'td_infant_infantnvpdispensing', 'td_infant_infantoffstudy', 'td_infant_solidfoodassessment', 'td_lab_infantrequisition'] __________________________--\n",
      "(*) td_infant_infantarvproph 224       \n",
      "(*) td_infant_infantbirtharv 196       \n",
      "(*) td_infant_infantbirthdata 318       \n",
      "(*) td_infant_infantbirthexam 315       \n",
      "(*) td_infant_infantbirthfeedingvaccine 320       \n",
      "(*) td_infant_infantcongenitalanomalies 12       \n",
      "(*) td_infant_infantdeathreport 5       \n",
      "(*) td_infant_infantfeeding 810       \n",
      "(*) td_infant_infantfu 810       \n",
      "(*) td_infant_infantfudx 54       \n",
      "(*) td_infant_infantfuimmunizations 675       \n",
      "(*) td_infant_infantfunewmed 810       \n",
      "(*) td_infant_infantfuphysical 798       \n",
      "(*) td_infant_infantnvpadjustment 87       \n",
      "(*) td_infant_infantnvpdispensing 101       \n",
      "(*) td_infant_infantoffstudy 17       \n",
      "(*) td_infant_solidfoodassessment 152       \n",
      "(*) td_lab_infantrequisition 3110       \n"
     ]
    }
   ],
   "source": [
    "exporter = CsvInfantCrfTablesExporter()\n",
    "exporter.to_csv(export_folder=infant_path)"
   ]
  },
  {
   "cell_type": "code",
   "execution_count": 5,
   "metadata": {
    "scrolled": true
   },
   "outputs": [
    {
     "name": "stdout",
     "output_type": "stream",
     "text": [
      "\n",
      "+++++++++++\n",
      "td_infant_infantarvprophmod\n",
      "(*) td_infant_infantarvprophmod_infantarvproph_merged 228       \n"
     ]
    },
    {
     "name": "stderr",
     "output_type": "stream",
     "text": [
      "/Users/ckgathi/.venvs/td-export-new/lib/python3.6/site-packages/pandas/core/frame.py:3035: SettingWithCopyWarning: \n",
      "A value is trying to be set on a copy of a slice from a DataFrame\n",
      "\n",
      "See the caveats in the documentation: http://pandas.pydata.org/pandas-docs/stable/indexing.html#indexing-view-versus-copy\n",
      "  downcast=downcast, **kwargs)\n"
     ]
    },
    {
     "name": "stdout",
     "output_type": "stream",
     "text": [
      "td_infant_infantvaccines\n",
      "(*) td_infant_infantvaccines_infantbirthfeedvaccine_merged 409       \n",
      "td_infant_infantcardiodisorder\n",
      "(*) td_infant_infantcardiodisorder_congenitalanomalies_merged 12       \n",
      "td_infant_infantcleftdisorder\n",
      "(*) td_infant_infantcleftdisorder_congenitalanomalies_merged 12       \n",
      "td_infant_infantcns\n",
      "(*) td_infant_infantcns_congenitalanomalies_merged 12       \n",
      "td_infant_infantfacialdefect\n",
      "(*) td_infant_infantfacialdefect_congenitalanomalies_merged 12       \n",
      "td_infant_infantfemalegenital\n",
      "(*) td_infant_infantfemalegenital_congenitalanomalies_merged 12       \n",
      "td_infant_infantlowergi\n",
      "(*) td_infant_infantlowergi_congenitalanomalies_merged 12       \n",
      "td_infant_infantmalegenital\n",
      "(*) td_infant_infantmalegenital_congenitalanomalies_merged 12       \n",
      "td_infant_infantmouthupgi\n",
      "(*) td_infant_infantmouthupgi_congenitalanomalies_merged 12       \n",
      "td_infant_infantmusculoskeletal\n",
      "(*) td_infant_infantmusculoskeletal_congenitalanomalies_merged 12       \n",
      "td_infant_infantotherabnormalityitems\n",
      "(*) td_infant_infantotherabnormalityitems_congenitalanomalies_merged 12       \n",
      "td_infant_infantrenal\n",
      "(*) td_infant_infantrenal_congenitalanomalies_merged 12       \n",
      "td_infant_infantrespiratorydefect\n",
      "(*) td_infant_infantrespiratorydefect_congenitalanomalies_merged 12       \n",
      "td_infant_infantskin\n",
      "(*) td_infant_infantskin_congenitalanomalies_merged 12       \n",
      "td_infant_infanttrisomies\n",
      "(*) td_infant_infanttrisomies_congenitalanomalies_merged 12       \n",
      "td_infant_infantfudxitems\n",
      "(*) td_infant_infantfudxitems_infantfudx_merged 63       \n",
      "td_infant_vaccinesmissed\n",
      "(*) td_infant_vaccinesmissed_infantfuimmunizations_merged 715       \n",
      "td_infant_vaccinesreceived\n",
      "(*) td_infant_vaccinesreceived_infantfuimmunizations_merged 2448       \n",
      "td_infant_infantfunewmeditems\n",
      "(*) td_infant_infantfunewmeditems_infantfumed_merged 1298       \n",
      "td_infant_solidfoodassessment_rations_receviced\n",
      "(*) td_infant_solidfoodassessment_rations_receviced_solidfoodassessment_merged 205       \n",
      "td_infant_solidfoodassessment_solid_foods\n",
      "(*) td_infant_solidfoodassessment_solid_foods_solidfoodassessment_merged 453       \n"
     ]
    }
   ],
   "source": [
    "sys.stdout.write('\\n')\n",
    "exporter = CsvInfantCrfInlineTablesExporter(export_folder=infant_path)\n",
    "exporter.to_csv(date_format=date_format, delimiter=sep)"
   ]
  },
  {
   "cell_type": "markdown",
   "metadata": {},
   "source": [
    "### Registered Subject"
   ]
  },
  {
   "cell_type": "code",
   "execution_count": 6,
   "metadata": {},
   "outputs": [
    {
     "name": "stdout",
     "output_type": "stream",
     "text": [
      "edc_registration_registeredsubject\r",
      "( ) edc_registration_registeredsubject ...     \r",
      "(*) edc_registration_registeredsubject 810       \n"
     ]
    },
    {
     "data": {
      "text/plain": [
       "'/Users/ckgathi/data-exports/tshilo-dikotla/20180529/non_crf/edc_registration_registeredsubject_20180529103206.csv'"
      ]
     },
     "execution_count": 6,
     "metadata": {},
     "output_type": "execute_result"
    }
   ],
   "source": [
    "columns=['subject_identifier', 'relative_identifier', 'study_site',\n",
    "         'dob', 'gender', 'screening_identifier', 'screening_datetime',\n",
    "         'screening_age_in_years', 'registration_datetime', 'registration_status','id']\n",
    "obj= TableToDataframe(\n",
    "    table_name='edc_registration_registeredsubject',\n",
    "    db_name='BHP085',\n",
    "    columns=columns)\n",
    "df_rs = obj.dataframe\n",
    "df_rs = df_rs.rename(columns={'id': 'registered_subject_id'})\n",
    "exporter = CsvExporter(\n",
    "    data_label='edc_registration_registeredsubject',\n",
    "    export_folder=non_crf_path,\n",
    "    sort_by='subject_identifier',\n",
    "    date_format=date_format, delimiter=sep)\n",
    "exporter.to_csv(dataframe=df_rs)\n"
   ]
  },
  {
   "cell_type": "markdown",
   "metadata": {},
   "source": [
    "### Export tshilo-dikgotla non-crf tables with `registered_subject_id`"
   ]
  },
  {
   "cell_type": "code",
   "execution_count": 7,
   "metadata": {},
   "outputs": [
    {
     "name": "stdout",
     "output_type": "stream",
     "text": [
      "+++++++++++\n",
      "['td_infant_infantbirth', 'td_infant_infantdeathreport', 'td_lab_receive', 'td_maternal_antenatalenrollment', 'td_maternal_antenatalvisitmembership', 'td_maternal_maternalcontact', 'td_maternal_maternaleligibility', 'td_maternal_maternallabourdel', 'td_maternal_maternallocator', 'td_maternal_specimenconsent'] __________________________--\n"
     ]
    },
    {
     "name": "stderr",
     "output_type": "stream",
     "text": [
      "/Users/ckgathi/.venvs/td-export-new/lib/python3.6/site-packages/pandas/core/frame.py:3035: SettingWithCopyWarning: \n",
      "A value is trying to be set on a copy of a slice from a DataFrame\n",
      "\n",
      "See the caveats in the documentation: http://pandas.pydata.org/pandas-docs/stable/indexing.html#indexing-view-versus-copy\n",
      "  downcast=downcast, **kwargs)\n"
     ]
    },
    {
     "name": "stdout",
     "output_type": "stream",
     "text": [
      "td_infant_infantbirth\r",
      "( ) td_infant_infantbirth ...     \r",
      "(*) td_infant_infantbirth 345       \n",
      "td_infant_infantdeathreport\r",
      "( ) td_infant_infantdeathreport ...     \r",
      "(*) td_infant_infantdeathreport 5       \n"
     ]
    },
    {
     "name": "stderr",
     "output_type": "stream",
     "text": [
      "/Users/ckgathi/source/edc-pdutils/edc_pdutils/column_handlers/column_apply.py:17: SettingWithCopyWarning: \n",
      "A value is trying to be set on a copy of a slice from a DataFrame.\n",
      "Try using .loc[row_indexer,col_indexer] = value instead\n",
      "\n",
      "See the caveats in the documentation: http://pandas.pydata.org/pandas-docs/stable/indexing.html#indexing-view-versus-copy\n",
      "  self.apply)\n"
     ]
    },
    {
     "name": "stdout",
     "output_type": "stream",
     "text": [
      "(*) td_lab_receive 5207       \n",
      "(*) td_maternal_antenatalenrollment 465       \n",
      "(*) td_maternal_antenatalvisitmembership 421       \n",
      "(*) td_maternal_maternalcontact 5461       \n",
      "(*) td_maternal_maternaleligibility 465       \n",
      "(*) td_maternal_maternallabourdel 351       \n",
      "(*) td_maternal_maternallocator 458       \n",
      "(*) td_maternal_specimenconsent 465       \n"
     ]
    }
   ],
   "source": [
    "non_crf_path = os.path.join(path, 'non_crf')\n",
    "exporter = CsvNonCrfTablesExporter(\n",
    "    with_columns=['registered_subject_id'],\n",
    "    exclude_history_tables=True,\n",
    "    exclude_hints=['td_lab'])\n",
    "exporter.to_csv(export_folder=non_crf_path)\n"
   ]
  },
  {
   "cell_type": "markdown",
   "metadata": {},
   "source": [
    "### Export data from Maternal Consent"
   ]
  },
  {
   "cell_type": "code",
   "execution_count": 8,
   "metadata": {},
   "outputs": [
    {
     "name": "stdout",
     "output_type": "stream",
     "text": [
      "+++++++++++\n"
     ]
    }
   ],
   "source": [
    "# export from Maternal Consent\n",
    "non_crf_path = os.path.join(path, 'non_crf')\n",
    "exporter = CsvNonCrfTablesExporter(\n",
    "    with_columns=['registered_subject_id'],\n",
    "    exclude_history_tables=True,\n",
    "    exclude_hints=['td_lab'])\n",
    "# exporter.to_csv(table_names=['td_maternal_maternalconsent'], export_folder=non_crf_path)"
   ]
  },
  {
   "cell_type": "code",
   "execution_count": 9,
   "metadata": {},
   "outputs": [
    {
     "name": "stdout",
     "output_type": "stream",
     "text": [
      "{1: 'CD4', 15: 'DBS (Store Only)', 8: 'DNA PCR', 10: 'ELISA', 4: 'Fasting Glucose', 5: 'Glucose 1h', 6: 'Glucose 2h', 3: 'Infant Glucose', 7: 'Infant Insulin', 13: 'Infant PBMC PL', 14: 'Infant Serum (Store Only)', 12: 'Insulin', 9: 'PBMC Plasma (STORE ONLY)', 11: 'PBMC VL', 2: 'Viral Load'}\n"
     ]
    }
   ],
   "source": [
    "# Connect to database\n",
    "db_name = ''\n",
    "password = ''\n",
    "db_connection = MySQLdb.connect(host='127.0.0.1', port=5001,user='root', passwd='', db=f'{db_name}')\n",
    "\n",
    "sql_statement = \"select p.id, p.name from td_lab_panel as p;\";\n",
    "df = pd.read_sql(sql_statement, con=db_connection)\n",
    "panels = df.values.tolist()\n",
    "panel_name_id = {p[0]: p[1] for p in panels}\n",
    "print(panel_name_id)"
   ]
  },
  {
   "cell_type": "code",
   "execution_count": 10,
   "metadata": {},
   "outputs": [
    {
     "name": "stdout",
     "output_type": "stream",
     "text": [
      "maternal_requisitions 2627\n"
     ]
    }
   ],
   "source": [
    "# Include panel name in maternal requisitions.\n",
    "fname = 'td_lab_maternalrequisition_20180523120847.csv'\n",
    "fname_path = os.path.join(maternal_path, fname)\n",
    "f = open(fname_path, 'r')\n",
    "lines = f.readlines()\n",
    "header = lines[0]\n",
    "header = header.strip()\n",
    "header = header.split(',')\n",
    "lines.pop(0)\n",
    "\n",
    "header.append('panel_name')\n",
    "maternal_requisition_data = []\n",
    "maternal_requisition_data.append(header)\n",
    "\n",
    "# Re build data to export to CSV.\n",
    "for line in lines:\n",
    "    line = line.strip()\n",
    "    line = line.split(',')\n",
    "    p_id = int(line[-9])\n",
    "    line.append(panel_name_id.get(p_id))\n",
    "    maternal_requisition_data.append(line)\n",
    "f.close()\n",
    "print('maternal_requisitions', len(maternal_requisition_data))"
   ]
  },
  {
   "cell_type": "code",
   "execution_count": null,
   "metadata": {},
   "outputs": [],
   "source": []
  },
  {
   "cell_type": "code",
   "execution_count": 11,
   "metadata": {},
   "outputs": [
    {
     "name": "stdout",
     "output_type": "stream",
     "text": [
      "File created\n"
     ]
    }
   ],
   "source": [
    "if os.path.isfile(fname_path):\n",
    "        os.remove(fname_path)\n",
    "with open(fname_path, 'a+') as f:\n",
    "    writer = csv.writer(f)\n",
    "    writer.writerows(maternal_requisition_data)\n",
    "print('File created')"
   ]
  },
  {
   "cell_type": "code",
   "execution_count": 12,
   "metadata": {
    "scrolled": false
   },
   "outputs": [
    {
     "name": "stdout",
     "output_type": "stream",
     "text": [
      "infant_requisitions 3070\n"
     ]
    }
   ],
   "source": [
    "# Include panel name in Infant requisitions.\n",
    "fname = 'td_lab_infantrequisition_20180523121031.csv'\n",
    "fname_path = os.path.join(infant_path, fname)\n",
    "f = open(fname_path, 'r')\n",
    "lines = f.readlines()\n",
    "header = lines[0]\n",
    "header = header.strip()\n",
    "header = header.split(',')\n",
    "lines.pop(0)\n",
    "\n",
    "header.append('panel_name')\n",
    "infant_requisition_data = []\n",
    "infant_requisition_data.append(header)\n",
    "\n",
    "# Re build data to export to CSV.\n",
    "for line in lines:\n",
    "    line = line.strip()\n",
    "    line = line.split(',')\n",
    "    if len(line) == 57:\n",
    "        try:\n",
    "            p_id = int(line[-10])\n",
    "        except ValueError:\n",
    "            p_id = int(line[-9])\n",
    "    elif len(line) == 56:\n",
    "        try:\n",
    "            p_id = int(line[-9])\n",
    "        except ValueError:\n",
    "            p_id = int(line[-8])\n",
    "    elif len(line) == 58:\n",
    "        try:\n",
    "            p_id = int(line[-9])\n",
    "        except ValueError:\n",
    "            p_id = int(line[-11])\n",
    "    else:\n",
    "        p_id = int(line[-9])\n",
    "    line.append(panel_name_id.get(p_id))\n",
    "    infant_requisition_data.append(line)\n",
    "f.close()\n",
    "print('infant_requisitions', len(infant_requisition_data))"
   ]
  },
  {
   "cell_type": "code",
   "execution_count": 13,
   "metadata": {},
   "outputs": [
    {
     "name": "stdout",
     "output_type": "stream",
     "text": [
      "File created\n"
     ]
    }
   ],
   "source": [
    "if os.path.isfile(fname_path):\n",
    "        os.remove(fname_path)\n",
    "with open(fname_path, 'a+') as f:\n",
    "    writer = csv.writer(f)\n",
    "    writer.writerows(infant_requisition_data)\n",
    "print('File created')"
   ]
  },
  {
   "cell_type": "code",
   "execution_count": 14,
   "metadata": {},
   "outputs": [],
   "source": [
    "# Close connection\n",
    "db_connection.close()"
   ]
  },
  {
   "cell_type": "code",
   "execution_count": null,
   "metadata": {},
   "outputs": [],
   "source": []
  }
 ],
 "metadata": {
  "kernelspec": {
   "display_name": "Django Shell-Plus",
   "language": "python",
   "name": "django_extensions"
  },
  "language_info": {
   "codemirror_mode": {
    "name": "ipython",
    "version": 3
   },
   "file_extension": ".py",
   "mimetype": "text/x-python",
   "name": "python",
   "nbconvert_exporter": "python",
   "pygments_lexer": "ipython3",
   "version": "3.6.5"
  }
 },
 "nbformat": 4,
 "nbformat_minor": 2
}
