{
 "cells": [
  {
   "cell_type": "markdown",
   "metadata": {},
   "source": [
    "# Export CRF data as CSV\n",
    "\n",
    "\n",
    "## Connect to live / remote DB\n",
    "To connect to the live database, open a tunnel, for example:\n",
    "\n",
    "    ssh -f <username>@<live_server> -L5001:localhost:3306 -N\n",
    "    \n",
    "Change the PORT in `settings.py`.\n",
    "\n",
    "Uses `edc-pdutils` v0.1.1\n"
   ]
  },
  {
   "cell_type": "code",
   "execution_count": null,
   "metadata": {},
   "outputs": [],
   "source": [
    "import os\n",
    "import pandas as pd\n",
    "import sys\n",
    "\n",
    "from edc_pdutils import CsvCrfTablesExporter, CrfDfHandler, CsvCrfInlineTablesExporter\n",
    "from td_export.csv_exporters import CsvMaternalCrfTablesExporter\n",
    "from td_export.csv_exporters import CsvInfantCrfTablesExporter, CsvNonCrfTablesExporter\n",
    "from td_export.csv_exporters import CsvMaternalCrfInlineTablesExporter, CsvInfantCrfInlineTablesExporter\n",
    "path = '/Users/erikvw/Documents/tshilo-dikotla/data/20171122/'\n",
    "date_format = '%Y-%m-%d'\n",
    "sep = ','\n",
    "\n",
    "maternal_path = os.path.join(path, 'maternal')\n",
    "infant_path = os.path.join(path, 'infant')\n"
   ]
  },
  {
   "cell_type": "markdown",
   "metadata": {},
   "source": [
    "### Export maternal CRFs"
   ]
  },
  {
   "cell_type": "code",
   "execution_count": null,
   "metadata": {},
   "outputs": [],
   "source": [
    "exporter = CsvMaternalCrfTablesExporter()\n",
    "exporter.to_csv(export_folder=maternal_path)"
   ]
  },
  {
   "cell_type": "code",
   "execution_count": null,
   "metadata": {},
   "outputs": [],
   "source": [
    "sys.stdout.write('\\n')\n",
    "exporter = CsvMaternalCrfInlineTablesExporter(export_folder=maternal_path)\n",
    "exporter.to_csv(date_format=date_format, delimiter=sep)"
   ]
  },
  {
   "cell_type": "markdown",
   "metadata": {},
   "source": [
    "### Export infant CRFs"
   ]
  },
  {
   "cell_type": "code",
   "execution_count": null,
   "metadata": {},
   "outputs": [],
   "source": [
    "exporter = CsvInfantCrfTablesExporter()\n",
    "exporter.to_csv(export_folder=infant_path)"
   ]
  },
  {
   "cell_type": "code",
   "execution_count": null,
   "metadata": {},
   "outputs": [],
   "source": [
    "sys.stdout.write('\\n')\n",
    "exporter = CsvInfantCrfInlineTablesExporter(export_folder=infant_path)\n",
    "exporter.to_csv(date_format=date_format, delimiter=sep)"
   ]
  },
  {
   "cell_type": "markdown",
   "metadata": {},
   "source": [
    "### Export tshilo-dikgotla non-crf tables with `registered_subject_id`"
   ]
  },
  {
   "cell_type": "code",
   "execution_count": null,
   "metadata": {},
   "outputs": [],
   "source": [
    "non_crf_path = os.path.join(path, 'non_crf')\n",
    "exporter = CsvNonCrfTablesExporter(\n",
    "    with_columns=['registered_subject_id'], exclude_history_tables=True, exclude_hints=['td_lab'])\n",
    "exporter.to_csv(export_folder=non_crf_path)\n"
   ]
  },
  {
   "cell_type": "markdown",
   "metadata": {},
   "source": [
    "### Export data from LIS"
   ]
  },
  {
   "cell_type": "code",
   "execution_count": null,
   "metadata": {},
   "outputs": [],
   "source": [
    "# export from LIS\n"
   ]
  },
  {
   "cell_type": "code",
   "execution_count": null,
   "metadata": {},
   "outputs": [],
   "source": []
  }
 ],
 "metadata": {
  "kernelspec": {
   "display_name": "Django Shell-Plus",
   "language": "python",
   "name": "django_extensions"
  },
  "language_info": {
   "codemirror_mode": {
    "name": "ipython",
    "version": 3
   },
   "file_extension": ".py",
   "mimetype": "text/x-python",
   "name": "python",
   "nbconvert_exporter": "python",
   "pygments_lexer": "ipython3",
   "version": "3.6.3"
  }
 },
 "nbformat": 4,
 "nbformat_minor": 2
}
